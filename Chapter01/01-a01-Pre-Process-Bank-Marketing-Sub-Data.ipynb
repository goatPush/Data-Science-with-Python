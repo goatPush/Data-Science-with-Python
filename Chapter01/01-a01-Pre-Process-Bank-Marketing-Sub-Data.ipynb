{
 "cells": [
  {
   "cell_type": "code",
   "execution_count": 1,
   "id": "f16f82f1",
   "metadata": {},
   "outputs": [],
   "source": [
    "import pandas as pd\n",
    "import numpy as np\n",
    "from sklearn.model_selection import train_test_split\n",
    "\n",
    "# Data location\n",
    "dataset = 'Data/Banking_Marketing.csv'\n",
    "\n",
    "# Create dataframe\n",
    "df = pd.read_csv(dataset, header=0)"
   ]
  },
  {
   "cell_type": "code",
   "execution_count": 2,
   "id": "83202375",
   "metadata": {},
   "outputs": [
    {
     "name": "stdout",
     "output_type": "stream",
     "text": [
      "Rows: 41199\n",
      "Columns: 21\n"
     ]
    }
   ],
   "source": [
    "# Number of rows and columns\n",
    "num_rows, num_columns = df.shape\n",
    "\n",
    "print(f'Rows: {num_rows}\\nColumns: {num_columns}')"
   ]
  },
  {
   "cell_type": "code",
   "execution_count": 3,
   "id": "ceaeb052",
   "metadata": {},
   "outputs": [
    {
     "name": "stdout",
     "output_type": "stream",
     "text": [
      "Columns:\n",
      "- age\n",
      "- job\n",
      "- marital\n",
      "- education\n",
      "- default\n",
      "- housing\n",
      "- loan\n",
      "- contact\n",
      "- month\n",
      "- day_of_week\n",
      "- duration\n",
      "- campaign\n",
      "- pdays\n",
      "- previous\n",
      "- poutcome\n",
      "- emp_var_rate\n",
      "- cons_price_idx\n",
      "- cons_conf_idx\n",
      "- euribor3m\n",
      "- nr_employed\n",
      "- y\n",
      "\n"
     ]
    }
   ],
   "source": [
    "# List columns\n",
    "print('Columns:')\n",
    "for i in df.columns:\n",
    "    print(f'- {i}')\n",
    "print()"
   ]
  },
  {
   "cell_type": "code",
   "execution_count": 4,
   "id": "010e88f3",
   "metadata": {},
   "outputs": [
    {
     "data": {
      "text/html": [
       "<div>\n",
       "<style scoped>\n",
       "    .dataframe tbody tr th:only-of-type {\n",
       "        vertical-align: middle;\n",
       "    }\n",
       "\n",
       "    .dataframe tbody tr th {\n",
       "        vertical-align: top;\n",
       "    }\n",
       "\n",
       "    .dataframe thead th {\n",
       "        text-align: right;\n",
       "    }\n",
       "</style>\n",
       "<table border=\"1\" class=\"dataframe\">\n",
       "  <thead>\n",
       "    <tr style=\"text-align: right;\">\n",
       "      <th></th>\n",
       "      <th>count</th>\n",
       "      <th>mean</th>\n",
       "      <th>std</th>\n",
       "      <th>min</th>\n",
       "      <th>25%</th>\n",
       "      <th>50%</th>\n",
       "      <th>75%</th>\n",
       "      <th>max</th>\n",
       "    </tr>\n",
       "  </thead>\n",
       "  <tbody>\n",
       "    <tr>\n",
       "      <th>age</th>\n",
       "      <td>41197.0</td>\n",
       "      <td>40.023812</td>\n",
       "      <td>10.434966</td>\n",
       "      <td>1.000</td>\n",
       "      <td>32.000</td>\n",
       "      <td>38.000</td>\n",
       "      <td>47.000</td>\n",
       "      <td>104.000</td>\n",
       "    </tr>\n",
       "    <tr>\n",
       "      <th>duration</th>\n",
       "      <td>41192.0</td>\n",
       "      <td>258.274762</td>\n",
       "      <td>259.270089</td>\n",
       "      <td>0.000</td>\n",
       "      <td>102.000</td>\n",
       "      <td>180.000</td>\n",
       "      <td>319.000</td>\n",
       "      <td>4918.000</td>\n",
       "    </tr>\n",
       "    <tr>\n",
       "      <th>campaign</th>\n",
       "      <td>41199.0</td>\n",
       "      <td>2.567514</td>\n",
       "      <td>2.769719</td>\n",
       "      <td>1.000</td>\n",
       "      <td>1.000</td>\n",
       "      <td>2.000</td>\n",
       "      <td>3.000</td>\n",
       "      <td>56.000</td>\n",
       "    </tr>\n",
       "    <tr>\n",
       "      <th>pdays</th>\n",
       "      <td>41199.0</td>\n",
       "      <td>962.485206</td>\n",
       "      <td>186.886905</td>\n",
       "      <td>0.000</td>\n",
       "      <td>999.000</td>\n",
       "      <td>999.000</td>\n",
       "      <td>999.000</td>\n",
       "      <td>999.000</td>\n",
       "    </tr>\n",
       "    <tr>\n",
       "      <th>previous</th>\n",
       "      <td>41199.0</td>\n",
       "      <td>0.172941</td>\n",
       "      <td>0.494859</td>\n",
       "      <td>0.000</td>\n",
       "      <td>0.000</td>\n",
       "      <td>0.000</td>\n",
       "      <td>0.000</td>\n",
       "      <td>7.000</td>\n",
       "    </tr>\n",
       "    <tr>\n",
       "      <th>emp_var_rate</th>\n",
       "      <td>41199.0</td>\n",
       "      <td>0.081900</td>\n",
       "      <td>1.570971</td>\n",
       "      <td>-3.400</td>\n",
       "      <td>-1.800</td>\n",
       "      <td>1.100</td>\n",
       "      <td>1.400</td>\n",
       "      <td>1.400</td>\n",
       "    </tr>\n",
       "    <tr>\n",
       "      <th>cons_price_idx</th>\n",
       "      <td>41199.0</td>\n",
       "      <td>93.575650</td>\n",
       "      <td>0.578845</td>\n",
       "      <td>92.201</td>\n",
       "      <td>93.075</td>\n",
       "      <td>93.749</td>\n",
       "      <td>93.994</td>\n",
       "      <td>94.767</td>\n",
       "    </tr>\n",
       "    <tr>\n",
       "      <th>cons_conf_idx</th>\n",
       "      <td>41199.0</td>\n",
       "      <td>-40.502002</td>\n",
       "      <td>4.628524</td>\n",
       "      <td>-50.800</td>\n",
       "      <td>-42.700</td>\n",
       "      <td>-41.800</td>\n",
       "      <td>-36.400</td>\n",
       "      <td>-26.900</td>\n",
       "    </tr>\n",
       "    <tr>\n",
       "      <th>euribor3m</th>\n",
       "      <td>41199.0</td>\n",
       "      <td>3.621336</td>\n",
       "      <td>1.734431</td>\n",
       "      <td>0.634</td>\n",
       "      <td>1.344</td>\n",
       "      <td>4.857</td>\n",
       "      <td>4.961</td>\n",
       "      <td>5.045</td>\n",
       "    </tr>\n",
       "    <tr>\n",
       "      <th>nr_employed</th>\n",
       "      <td>41199.0</td>\n",
       "      <td>5167.036455</td>\n",
       "      <td>72.249592</td>\n",
       "      <td>4963.600</td>\n",
       "      <td>5099.100</td>\n",
       "      <td>5191.000</td>\n",
       "      <td>5228.100</td>\n",
       "      <td>5228.100</td>\n",
       "    </tr>\n",
       "    <tr>\n",
       "      <th>y</th>\n",
       "      <td>41199.0</td>\n",
       "      <td>0.112648</td>\n",
       "      <td>0.316166</td>\n",
       "      <td>0.000</td>\n",
       "      <td>0.000</td>\n",
       "      <td>0.000</td>\n",
       "      <td>0.000</td>\n",
       "      <td>1.000</td>\n",
       "    </tr>\n",
       "  </tbody>\n",
       "</table>\n",
       "</div>"
      ],
      "text/plain": [
       "                  count         mean         std       min       25%  \\\n",
       "age             41197.0    40.023812   10.434966     1.000    32.000   \n",
       "duration        41192.0   258.274762  259.270089     0.000   102.000   \n",
       "campaign        41199.0     2.567514    2.769719     1.000     1.000   \n",
       "pdays           41199.0   962.485206  186.886905     0.000   999.000   \n",
       "previous        41199.0     0.172941    0.494859     0.000     0.000   \n",
       "emp_var_rate    41199.0     0.081900    1.570971    -3.400    -1.800   \n",
       "cons_price_idx  41199.0    93.575650    0.578845    92.201    93.075   \n",
       "cons_conf_idx   41199.0   -40.502002    4.628524   -50.800   -42.700   \n",
       "euribor3m       41199.0     3.621336    1.734431     0.634     1.344   \n",
       "nr_employed     41199.0  5167.036455   72.249592  4963.600  5099.100   \n",
       "y               41199.0     0.112648    0.316166     0.000     0.000   \n",
       "\n",
       "                     50%       75%       max  \n",
       "age               38.000    47.000   104.000  \n",
       "duration         180.000   319.000  4918.000  \n",
       "campaign           2.000     3.000    56.000  \n",
       "pdays            999.000   999.000   999.000  \n",
       "previous           0.000     0.000     7.000  \n",
       "emp_var_rate       1.100     1.400     1.400  \n",
       "cons_price_idx    93.749    93.994    94.767  \n",
       "cons_conf_idx    -41.800   -36.400   -26.900  \n",
       "euribor3m          4.857     4.961     5.045  \n",
       "nr_employed     5191.000  5228.100  5228.100  \n",
       "y                  0.000     0.000     1.000  "
      ]
     },
     "execution_count": 4,
     "metadata": {},
     "output_type": "execute_result"
    }
   ],
   "source": [
    "# Stat of all columns\n",
    "df.describe().transpose()"
   ]
  },
  {
   "cell_type": "code",
   "execution_count": 5,
   "id": "c891f4b1",
   "metadata": {},
   "outputs": [
    {
     "name": "stdout",
     "output_type": "stream",
     "text": [
      "<class 'pandas.core.frame.DataFrame'>\n",
      "RangeIndex: 41199 entries, 0 to 41198\n",
      "Data columns (total 21 columns):\n",
      " #   Column          Non-Null Count  Dtype  \n",
      "---  ------          --------------  -----  \n",
      " 0   age             41197 non-null  float64\n",
      " 1   job             41199 non-null  object \n",
      " 2   marital         41199 non-null  object \n",
      " 3   education       41199 non-null  object \n",
      " 4   default         41199 non-null  object \n",
      " 5   housing         41199 non-null  object \n",
      " 6   loan            41199 non-null  object \n",
      " 7   contact         41193 non-null  object \n",
      " 8   month           41199 non-null  object \n",
      " 9   day_of_week     41199 non-null  object \n",
      " 10  duration        41192 non-null  float64\n",
      " 11  campaign        41199 non-null  int64  \n",
      " 12  pdays           41199 non-null  int64  \n",
      " 13  previous        41199 non-null  int64  \n",
      " 14  poutcome        41199 non-null  object \n",
      " 15  emp_var_rate    41199 non-null  float64\n",
      " 16  cons_price_idx  41199 non-null  float64\n",
      " 17  cons_conf_idx   41199 non-null  float64\n",
      " 18  euribor3m       41199 non-null  float64\n",
      " 19  nr_employed     41199 non-null  float64\n",
      " 20  y               41199 non-null  int64  \n",
      "dtypes: float64(7), int64(4), object(10)\n",
      "memory usage: 6.6+ MB\n",
      "None\n"
     ]
    }
   ],
   "source": [
    "# Column information\n",
    "print(df.info())"
   ]
  },
  {
   "cell_type": "code",
   "execution_count": 6,
   "id": "c857cb97",
   "metadata": {},
   "outputs": [
    {
     "name": "stdout",
     "output_type": "stream",
     "text": [
      "                Has NAs  NA sum     type\n",
      "age                True       2  float64\n",
      "job               False       0   object\n",
      "marital           False       0   object\n",
      "education         False       0   object\n",
      "default           False       0   object\n",
      "housing           False       0   object\n",
      "loan              False       0   object\n",
      "contact            True       6   object\n",
      "month             False       0   object\n",
      "day_of_week       False       0   object\n",
      "duration           True       7  float64\n",
      "campaign          False       0    int64\n",
      "pdays             False       0    int64\n",
      "previous          False       0    int64\n",
      "poutcome          False       0   object\n",
      "emp_var_rate      False       0  float64\n",
      "cons_price_idx    False       0  float64\n",
      "cons_conf_idx     False       0  float64\n",
      "euribor3m         False       0  float64\n",
      "nr_employed       False       0  float64\n",
      "y                 False       0    int64\n"
     ]
    }
   ],
   "source": [
    "# Count how many NAs\n",
    "na_ = df.isna().any()\n",
    "dtypes_ = df.dtypes\n",
    "sum_na_ = df.isna().sum()\n",
    "info = pd.concat([na_, sum_na_, dtypes_], axis=1, keys=['Has NAs', 'NA sum', 'type'])\n",
    "print(info)"
   ]
  },
  {
   "cell_type": "code",
   "execution_count": 7,
   "id": "5d723cd6",
   "metadata": {},
   "outputs": [
    {
     "name": "stdout",
     "output_type": "stream",
     "text": [
      "age               0\n",
      "job               0\n",
      "marital           0\n",
      "education         0\n",
      "default           0\n",
      "housing           0\n",
      "loan              0\n",
      "contact           0\n",
      "month             0\n",
      "day_of_week       0\n",
      "duration          0\n",
      "campaign          0\n",
      "pdays             0\n",
      "previous          0\n",
      "poutcome          0\n",
      "emp_var_rate      0\n",
      "cons_price_idx    0\n",
      "cons_conf_idx     0\n",
      "euribor3m         0\n",
      "nr_employed       0\n",
      "y                 0\n",
      "dtype: int64\n"
     ]
    }
   ],
   "source": [
    "# Get rid of rows with NAs\n",
    "df = df.dropna()\n",
    "print(df.isna().sum())"
   ]
  },
  {
   "cell_type": "code",
   "execution_count": 8,
   "id": "237cecfa",
   "metadata": {},
   "outputs": [
    {
     "data": {
      "text/plain": [
       "university.degree      12167\n",
       "high.school             9516\n",
       "basic.9y                6045\n",
       "professional.course     5242\n",
       "basic.4y                4176\n",
       "basic.6y                2292\n",
       "unknown                 1731\n",
       "illiterate                18\n",
       "Name: education, dtype: int64"
      ]
     },
     "execution_count": 8,
     "metadata": {},
     "output_type": "execute_result"
    }
   ],
   "source": [
    "# Check frequency of education\n",
    "df.education.value_counts()"
   ]
  },
  {
   "cell_type": "code",
   "execution_count": 9,
   "id": "f783dc03",
   "metadata": {},
   "outputs": [
    {
     "data": {
      "text/plain": [
       "array(['basic.4y', 'unknown', 'university.degree', 'high.school',\n",
       "       'basic.9y', 'professional.course', 'basic.6y', 'illiterate'],\n",
       "      dtype=object)"
      ]
     },
     "execution_count": 9,
     "metadata": {},
     "output_type": "execute_result"
    }
   ],
   "source": [
    "# Find unique values\n",
    "df.education.unique()"
   ]
  },
  {
   "cell_type": "code",
   "execution_count": 10,
   "id": "5416640c",
   "metadata": {},
   "outputs": [
    {
     "data": {
      "text/plain": [
       "array(['basic', 'unknown', 'university.degree', 'high.school',\n",
       "       'professional.course', 'illiterate'], dtype=object)"
      ]
     },
     "execution_count": 10,
     "metadata": {},
     "output_type": "execute_result"
    }
   ],
   "source": [
    "# Colapse the basic categories\n",
    "df.education.replace({'basic.9y':'basic', 'basic.6y':'basic', 'basic.4y':'basic'}, inplace=True)\n",
    "df.education.unique()"
   ]
  },
  {
   "cell_type": "code",
   "execution_count": 11,
   "id": "5bca9efb",
   "metadata": {},
   "outputs": [
    {
     "data": {
      "text/plain": [
       "Index(['job', 'marital', 'education', 'default', 'housing', 'loan', 'contact',\n",
       "       'month', 'day_of_week', 'poutcome'],\n",
       "      dtype='object')"
      ]
     },
     "execution_count": 11,
     "metadata": {},
     "output_type": "execute_result"
    }
   ],
   "source": [
    "# Encode data\n",
    "data_column_category = df.select_dtypes(exclude=[np.number]).columns\n",
    "data_column_category"
   ]
  },
  {
   "cell_type": "code",
   "execution_count": 12,
   "id": "9540e3fc",
   "metadata": {},
   "outputs": [
    {
     "data": {
      "text/plain": [
       "Index(['age', 'duration', 'campaign', 'pdays', 'previous', 'emp_var_rate',\n",
       "       'cons_price_idx', 'cons_conf_idx', 'euribor3m', 'nr_employed', 'y'],\n",
       "      dtype='object')"
      ]
     },
     "execution_count": 12,
     "metadata": {},
     "output_type": "execute_result"
    }
   ],
   "source": [
    "data_column_number = df.select_dtypes([np.number]).columns\n",
    "data_column_number"
   ]
  },
  {
   "cell_type": "code",
   "execution_count": 13,
   "id": "14d9300a",
   "metadata": {},
   "outputs": [
    {
     "data": {
      "text/plain": [
       "Index(['job_admin.', 'job_blue-collar', 'job_entrepreneur', 'job_housemaid',\n",
       "       'job_management', 'job_retired', 'job_self-employed', 'job_services',\n",
       "       'job_student', 'job_technician', 'job_unemployed', 'job_unknown',\n",
       "       'marital_divorced', 'marital_married', 'marital_single',\n",
       "       'marital_unknown', 'education_basic', 'education_high.school',\n",
       "       'education_illiterate', 'education_professional.course',\n",
       "       'education_university.degree', 'education_unknown', 'default_no',\n",
       "       'default_unknown', 'default_yes', 'housing_no', 'housing_unknown',\n",
       "       'housing_yes', 'loan_no', 'loan_unknown', 'loan_yes',\n",
       "       'contact_cellular', 'contact_telephone', 'month_apr', 'month_aug',\n",
       "       'month_dec', 'month_jul', 'month_jun', 'month_mar', 'month_may',\n",
       "       'month_nov', 'month_oct', 'month_sep', 'day_of_week_fri',\n",
       "       'day_of_week_mon', 'day_of_week_thu', 'day_of_week_tue',\n",
       "       'day_of_week_wed', 'poutcome_failure', 'poutcome_nonexistent',\n",
       "       'poutcome_success', 'age', 'duration', 'campaign', 'pdays', 'previous',\n",
       "       'emp_var_rate', 'cons_price_idx', 'cons_conf_idx', 'euribor3m',\n",
       "       'nr_employed', 'y'],\n",
       "      dtype='object')"
      ]
     },
     "execution_count": 13,
     "metadata": {},
     "output_type": "execute_result"
    }
   ],
   "source": [
    "# One-Hot encoding\n",
    "df_onehot_getdummies = pd.get_dummies(df[data_column_category])\n",
    "df_ = pd.concat([df_onehot_getdummies, df[data_column_number]], axis=1)\n",
    "df_.columns"
   ]
  },
  {
   "cell_type": "code",
   "execution_count": 14,
   "id": "72a3ca60",
   "metadata": {},
   "outputs": [
    {
     "name": "stdout",
     "output_type": "stream",
     "text": [
      "The shape of X (feature matrix): (41187, 61)\n",
      "The shape of y (target matrix): (41187,)\n"
     ]
    }
   ],
   "source": [
    "# Split the data into training and test sets\n",
    "X = df_.drop('y', axis=1)\n",
    "y = df_['y']\n",
    "\n",
    "pstr = f\"\"\"The shape of X (feature matrix): {X.shape}\n",
    "The shape of y (target matrix): {y.shape}\"\"\"\n",
    "print(pstr)"
   ]
  },
  {
   "cell_type": "code",
   "execution_count": 15,
   "id": "fcc22307",
   "metadata": {},
   "outputs": [
    {
     "name": "stdout",
     "output_type": "stream",
     "text": [
      "The shape of training features: (32949, 61)\n",
      "The shape of training targets: (32949,)\n",
      "The shape of testing features: (8238, 61)\n",
      "The shape of testing targets: (8238,)\n"
     ]
    }
   ],
   "source": [
    "# Split 80:20\n",
    "X_train, X_test, y_train, y_test = train_test_split(X, y, test_size=0.2, random_state=0)\n",
    "\n",
    "pstr =f\"\"\"The shape of training features: {X_train.shape}\n",
    "The shape of training targets: {y_train.shape}\n",
    "The shape of testing features: {X_test.shape}\n",
    "The shape of testing targets: {y_test.shape}\"\"\"\n",
    "print(pstr)"
   ]
  }
 ],
 "metadata": {
  "kernelspec": {
   "display_name": "Python 3 (ipykernel)",
   "language": "python",
   "name": "python3"
  },
  "language_info": {
   "codemirror_mode": {
    "name": "ipython",
    "version": 3
   },
   "file_extension": ".py",
   "mimetype": "text/x-python",
   "name": "python",
   "nbconvert_exporter": "python",
   "pygments_lexer": "ipython3",
   "version": "3.10.10"
  }
 },
 "nbformat": 4,
 "nbformat_minor": 5
}

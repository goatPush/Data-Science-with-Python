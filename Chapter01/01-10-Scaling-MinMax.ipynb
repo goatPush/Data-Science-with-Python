{
 "cells": [
  {
   "cell_type": "code",
   "execution_count": 1,
   "id": "26ed307a",
   "metadata": {},
   "outputs": [],
   "source": [
    "import pandas as pd\n",
    "\n",
    "# Data location\n",
    "dataset = 'Data/Wholesale customers data.csv'\n",
    "\n",
    "# Create dataframe\n",
    "df = pd.read_csv(dataset, header=0)"
   ]
  },
  {
   "cell_type": "code",
   "execution_count": 2,
   "id": "afe71795",
   "metadata": {},
   "outputs": [
    {
     "name": "stdout",
     "output_type": "stream",
     "text": [
      "                     NA   type\n",
      "Channel           False  int64\n",
      "Region            False  int64\n",
      "Fresh             False  int64\n",
      "Milk              False  int64\n",
      "Grocery           False  int64\n",
      "Frozen            False  int64\n",
      "Detergents_Paper  False  int64\n",
      "Delicassen        False  int64\n"
     ]
    }
   ],
   "source": [
    "# Check for missing data\n",
    "na_ = df.isna().any()\n",
    "\n",
    "dtypes_ = df.dtypes\n",
    "\n",
    "info = pd.concat([na_, dtypes_], axis=1, keys=['NA', 'type'])\n",
    "print(info)"
   ]
  },
  {
   "cell_type": "code",
   "execution_count": 5,
   "id": "61d366ff",
   "metadata": {},
   "outputs": [
    {
     "data": {
      "text/html": [
       "<div>\n",
       "<style scoped>\n",
       "    .dataframe tbody tr th:only-of-type {\n",
       "        vertical-align: middle;\n",
       "    }\n",
       "\n",
       "    .dataframe tbody tr th {\n",
       "        vertical-align: top;\n",
       "    }\n",
       "\n",
       "    .dataframe thead th {\n",
       "        text-align: right;\n",
       "    }\n",
       "</style>\n",
       "<table border=\"1\" class=\"dataframe\">\n",
       "  <thead>\n",
       "    <tr style=\"text-align: right;\">\n",
       "      <th></th>\n",
       "      <th>Channel</th>\n",
       "      <th>Region</th>\n",
       "      <th>Fresh</th>\n",
       "      <th>Milk</th>\n",
       "      <th>Grocery</th>\n",
       "      <th>Frozen</th>\n",
       "      <th>Detergents_Paper</th>\n",
       "      <th>Delicassen</th>\n",
       "    </tr>\n",
       "  </thead>\n",
       "  <tbody>\n",
       "    <tr>\n",
       "      <th>0</th>\n",
       "      <td>1.0</td>\n",
       "      <td>1.0</td>\n",
       "      <td>0.112940</td>\n",
       "      <td>0.130727</td>\n",
       "      <td>0.081464</td>\n",
       "      <td>0.003106</td>\n",
       "      <td>0.065427</td>\n",
       "      <td>0.027847</td>\n",
       "    </tr>\n",
       "    <tr>\n",
       "      <th>1</th>\n",
       "      <td>1.0</td>\n",
       "      <td>1.0</td>\n",
       "      <td>0.062899</td>\n",
       "      <td>0.132824</td>\n",
       "      <td>0.103097</td>\n",
       "      <td>0.028548</td>\n",
       "      <td>0.080590</td>\n",
       "      <td>0.036984</td>\n",
       "    </tr>\n",
       "    <tr>\n",
       "      <th>2</th>\n",
       "      <td>1.0</td>\n",
       "      <td>1.0</td>\n",
       "      <td>0.056622</td>\n",
       "      <td>0.119181</td>\n",
       "      <td>0.082790</td>\n",
       "      <td>0.039116</td>\n",
       "      <td>0.086052</td>\n",
       "      <td>0.163559</td>\n",
       "    </tr>\n",
       "    <tr>\n",
       "      <th>3</th>\n",
       "      <td>0.0</td>\n",
       "      <td>1.0</td>\n",
       "      <td>0.118254</td>\n",
       "      <td>0.015536</td>\n",
       "      <td>0.045464</td>\n",
       "      <td>0.104842</td>\n",
       "      <td>0.012346</td>\n",
       "      <td>0.037234</td>\n",
       "    </tr>\n",
       "    <tr>\n",
       "      <th>4</th>\n",
       "      <td>1.0</td>\n",
       "      <td>1.0</td>\n",
       "      <td>0.201626</td>\n",
       "      <td>0.072914</td>\n",
       "      <td>0.077552</td>\n",
       "      <td>0.063934</td>\n",
       "      <td>0.043455</td>\n",
       "      <td>0.108093</td>\n",
       "    </tr>\n",
       "  </tbody>\n",
       "</table>\n",
       "</div>"
      ],
      "text/plain": [
       "   Channel  Region     Fresh      Milk   Grocery    Frozen  Detergents_Paper  \\\n",
       "0      1.0     1.0  0.112940  0.130727  0.081464  0.003106          0.065427   \n",
       "1      1.0     1.0  0.062899  0.132824  0.103097  0.028548          0.080590   \n",
       "2      1.0     1.0  0.056622  0.119181  0.082790  0.039116          0.086052   \n",
       "3      0.0     1.0  0.118254  0.015536  0.045464  0.104842          0.012346   \n",
       "4      1.0     1.0  0.201626  0.072914  0.077552  0.063934          0.043455   \n",
       "\n",
       "   Delicassen  \n",
       "0    0.027847  \n",
       "1    0.036984  \n",
       "2    0.163559  \n",
       "3    0.037234  \n",
       "4    0.108093  "
      ]
     },
     "execution_count": 5,
     "metadata": {},
     "output_type": "execute_result"
    }
   ],
   "source": [
    "from sklearn import preprocessing\n",
    "\n",
    "# Scale data\n",
    "minmax_scale = preprocessing.MinMaxScaler().fit_transform(df)\n",
    "\n",
    "scaled_frame = pd.DataFrame(minmax_scale, columns=df.columns)\n",
    "scaled_frame.head()"
   ]
  }
 ],
 "metadata": {
  "kernelspec": {
   "display_name": "Python 3 (ipykernel)",
   "language": "python",
   "name": "python3"
  },
  "language_info": {
   "codemirror_mode": {
    "name": "ipython",
    "version": 3
   },
   "file_extension": ".py",
   "mimetype": "text/x-python",
   "name": "python",
   "nbconvert_exporter": "python",
   "pygments_lexer": "ipython3",
   "version": "3.10.10"
  }
 },
 "nbformat": 4,
 "nbformat_minor": 5
}
